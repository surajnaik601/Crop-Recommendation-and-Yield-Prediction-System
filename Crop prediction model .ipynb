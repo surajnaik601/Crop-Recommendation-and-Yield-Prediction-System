{
 "cells": [
  {
   "cell_type": "markdown",
   "metadata": {
    "id": "ElHiPzneAlDl"
   },
   "source": [
    "<b><h2> CROP YIELD PREDICTION IN INDIA </h2></b>\n",
    "\n",
    "Predicting yield helps the state to get an estimate of the crop in a\n",
    "certain year to control the price rates.This model focuses on predicting the crop yield in advance by analyzing\n",
    "factors like location, season, and crop type  through machine learning techniques on\n",
    "previously collected datasets."
   ]
  },
  {
   "cell_type": "code",
   "execution_count": 2,
   "metadata": {
    "id": "FtEIe2eNAvGG"
   },
   "outputs": [],
   "source": [
    "# importing necessary libraries \n",
    "\n",
    "import numpy as np\n",
    "import pandas as pd\n",
    "import matplotlib.pyplot as plt\n",
    "import seaborn as sns"
   ]
  },
  {
   "cell_type": "code",
   "execution_count": 3,
   "metadata": {
    "id": "QlFU5GzNCLGo"
   },
   "outputs": [
    {
     "data": {
      "text/html": [
       "<div>\n",
       "<style scoped>\n",
       "    .dataframe tbody tr th:only-of-type {\n",
       "        vertical-align: middle;\n",
       "    }\n",
       "\n",
       "    .dataframe tbody tr th {\n",
       "        vertical-align: top;\n",
       "    }\n",
       "\n",
       "    .dataframe thead th {\n",
       "        text-align: right;\n",
       "    }\n",
       "</style>\n",
       "<table border=\"1\" class=\"dataframe\">\n",
       "  <thead>\n",
       "    <tr style=\"text-align: right;\">\n",
       "      <th></th>\n",
       "      <th>State_Name</th>\n",
       "      <th>District_Name</th>\n",
       "      <th>Crop_Year</th>\n",
       "      <th>Season</th>\n",
       "      <th>Crop</th>\n",
       "      <th>Area</th>\n",
       "      <th>Production</th>\n",
       "    </tr>\n",
       "  </thead>\n",
       "  <tbody>\n",
       "    <tr>\n",
       "      <th>0</th>\n",
       "      <td>Andaman and Nicobar Islands</td>\n",
       "      <td>NICOBARS</td>\n",
       "      <td>2000</td>\n",
       "      <td>Kharif</td>\n",
       "      <td>Arecanut</td>\n",
       "      <td>1254.0</td>\n",
       "      <td>2000.0</td>\n",
       "    </tr>\n",
       "    <tr>\n",
       "      <th>1</th>\n",
       "      <td>Andaman and Nicobar Islands</td>\n",
       "      <td>NICOBARS</td>\n",
       "      <td>2000</td>\n",
       "      <td>Kharif</td>\n",
       "      <td>Other Kharif pulses</td>\n",
       "      <td>2.0</td>\n",
       "      <td>1.0</td>\n",
       "    </tr>\n",
       "    <tr>\n",
       "      <th>2</th>\n",
       "      <td>Andaman and Nicobar Islands</td>\n",
       "      <td>NICOBARS</td>\n",
       "      <td>2000</td>\n",
       "      <td>Kharif</td>\n",
       "      <td>Rice</td>\n",
       "      <td>102.0</td>\n",
       "      <td>321.0</td>\n",
       "    </tr>\n",
       "    <tr>\n",
       "      <th>3</th>\n",
       "      <td>Andaman and Nicobar Islands</td>\n",
       "      <td>NICOBARS</td>\n",
       "      <td>2000</td>\n",
       "      <td>Whole Year</td>\n",
       "      <td>Banana</td>\n",
       "      <td>176.0</td>\n",
       "      <td>641.0</td>\n",
       "    </tr>\n",
       "    <tr>\n",
       "      <th>4</th>\n",
       "      <td>Andaman and Nicobar Islands</td>\n",
       "      <td>NICOBARS</td>\n",
       "      <td>2000</td>\n",
       "      <td>Whole Year</td>\n",
       "      <td>Cashewnut</td>\n",
       "      <td>720.0</td>\n",
       "      <td>165.0</td>\n",
       "    </tr>\n",
       "    <tr>\n",
       "      <th>...</th>\n",
       "      <td>...</td>\n",
       "      <td>...</td>\n",
       "      <td>...</td>\n",
       "      <td>...</td>\n",
       "      <td>...</td>\n",
       "      <td>...</td>\n",
       "      <td>...</td>\n",
       "    </tr>\n",
       "    <tr>\n",
       "      <th>246086</th>\n",
       "      <td>West Bengal</td>\n",
       "      <td>PURULIA</td>\n",
       "      <td>2014</td>\n",
       "      <td>Summer</td>\n",
       "      <td>Rice</td>\n",
       "      <td>306.0</td>\n",
       "      <td>801.0</td>\n",
       "    </tr>\n",
       "    <tr>\n",
       "      <th>246087</th>\n",
       "      <td>West Bengal</td>\n",
       "      <td>PURULIA</td>\n",
       "      <td>2014</td>\n",
       "      <td>Summer</td>\n",
       "      <td>Sesamum</td>\n",
       "      <td>627.0</td>\n",
       "      <td>463.0</td>\n",
       "    </tr>\n",
       "    <tr>\n",
       "      <th>246088</th>\n",
       "      <td>West Bengal</td>\n",
       "      <td>PURULIA</td>\n",
       "      <td>2014</td>\n",
       "      <td>Whole Year</td>\n",
       "      <td>Sugarcane</td>\n",
       "      <td>324.0</td>\n",
       "      <td>16250.0</td>\n",
       "    </tr>\n",
       "    <tr>\n",
       "      <th>246089</th>\n",
       "      <td>West Bengal</td>\n",
       "      <td>PURULIA</td>\n",
       "      <td>2014</td>\n",
       "      <td>Winter</td>\n",
       "      <td>Rice</td>\n",
       "      <td>279151.0</td>\n",
       "      <td>597899.0</td>\n",
       "    </tr>\n",
       "    <tr>\n",
       "      <th>246090</th>\n",
       "      <td>West Bengal</td>\n",
       "      <td>PURULIA</td>\n",
       "      <td>2014</td>\n",
       "      <td>Winter</td>\n",
       "      <td>Sesamum</td>\n",
       "      <td>175.0</td>\n",
       "      <td>88.0</td>\n",
       "    </tr>\n",
       "  </tbody>\n",
       "</table>\n",
       "<p>246091 rows × 7 columns</p>\n",
       "</div>"
      ],
      "text/plain": [
       "                         State_Name District_Name  Crop_Year       Season  \\\n",
       "0       Andaman and Nicobar Islands      NICOBARS       2000  Kharif        \n",
       "1       Andaman and Nicobar Islands      NICOBARS       2000  Kharif        \n",
       "2       Andaman and Nicobar Islands      NICOBARS       2000  Kharif        \n",
       "3       Andaman and Nicobar Islands      NICOBARS       2000  Whole Year    \n",
       "4       Andaman and Nicobar Islands      NICOBARS       2000  Whole Year    \n",
       "...                             ...           ...        ...          ...   \n",
       "246086                  West Bengal       PURULIA       2014  Summer        \n",
       "246087                  West Bengal       PURULIA       2014  Summer        \n",
       "246088                  West Bengal       PURULIA       2014  Whole Year    \n",
       "246089                  West Bengal       PURULIA       2014  Winter        \n",
       "246090                  West Bengal       PURULIA       2014  Winter        \n",
       "\n",
       "                       Crop      Area  Production  \n",
       "0                  Arecanut    1254.0      2000.0  \n",
       "1       Other Kharif pulses       2.0         1.0  \n",
       "2                      Rice     102.0       321.0  \n",
       "3                    Banana     176.0       641.0  \n",
       "4                 Cashewnut     720.0       165.0  \n",
       "...                     ...       ...         ...  \n",
       "246086                 Rice     306.0       801.0  \n",
       "246087              Sesamum     627.0       463.0  \n",
       "246088            Sugarcane     324.0     16250.0  \n",
       "246089                 Rice  279151.0    597899.0  \n",
       "246090              Sesamum     175.0        88.0  \n",
       "\n",
       "[246091 rows x 7 columns]"
      ]
     },
     "execution_count": 3,
     "metadata": {},
     "output_type": "execute_result"
    }
   ],
   "source": [
    "# loading the dataset\n",
    "\n",
    "crop_data=pd.read_csv(\"crop_production.csv\")\n",
    "crop_data"
   ]
  },
  {
   "cell_type": "code",
   "execution_count": 15,
   "metadata": {
    "colab": {
     "base_uri": "https://localhost:8080/"
    },
    "id": "TCCZqMyfI3qj",
    "outputId": "e4fddce3-468f-4689-dda1-98a6c779fa78"
   },
   "outputs": [
    {
     "data": {
      "text/plain": [
       "(246091, 7)"
      ]
     },
     "execution_count": 15,
     "metadata": {},
     "output_type": "execute_result"
    }
   ],
   "source": [
    "crop_data.shape\n",
    "\n",
    "#rows X columns"
   ]
  },
  {
   "cell_type": "code",
   "execution_count": 16,
   "metadata": {
    "colab": {
     "base_uri": "https://localhost:8080/",
     "height": 178
    },
    "id": "vJM7qEq3wEEb",
    "outputId": "a147e6db-4b6b-448c-c950-1a9dadb7ef5a"
   },
   "outputs": [
    {
     "data": {
      "text/plain": [
       "Index(['State_Name', 'District_Name', 'Crop_Year', 'Season', 'Crop', 'Area',\n",
       "       'Production'],\n",
       "      dtype='object')"
      ]
     },
     "execution_count": 16,
     "metadata": {},
     "output_type": "execute_result"
    }
   ],
   "source": [
    "# dataset columns\n",
    "crop_data.columns"
   ]
  },
  {
   "cell_type": "code",
   "execution_count": 17,
   "metadata": {
    "colab": {
     "base_uri": "https://localhost:8080/",
     "height": 297
    },
    "id": "1xDyXRn_S-8I",
    "outputId": "c178c432-3227-4909-97ae-155d045df728"
   },
   "outputs": [
    {
     "data": {
      "text/html": [
       "<div>\n",
       "<style scoped>\n",
       "    .dataframe tbody tr th:only-of-type {\n",
       "        vertical-align: middle;\n",
       "    }\n",
       "\n",
       "    .dataframe tbody tr th {\n",
       "        vertical-align: top;\n",
       "    }\n",
       "\n",
       "    .dataframe thead th {\n",
       "        text-align: right;\n",
       "    }\n",
       "</style>\n",
       "<table border=\"1\" class=\"dataframe\">\n",
       "  <thead>\n",
       "    <tr style=\"text-align: right;\">\n",
       "      <th></th>\n",
       "      <th>Crop_Year</th>\n",
       "      <th>Area</th>\n",
       "      <th>Production</th>\n",
       "    </tr>\n",
       "  </thead>\n",
       "  <tbody>\n",
       "    <tr>\n",
       "      <th>count</th>\n",
       "      <td>246091.000000</td>\n",
       "      <td>2.460910e+05</td>\n",
       "      <td>2.423610e+05</td>\n",
       "    </tr>\n",
       "    <tr>\n",
       "      <th>mean</th>\n",
       "      <td>2005.643018</td>\n",
       "      <td>1.200282e+04</td>\n",
       "      <td>5.825034e+05</td>\n",
       "    </tr>\n",
       "    <tr>\n",
       "      <th>std</th>\n",
       "      <td>4.952164</td>\n",
       "      <td>5.052340e+04</td>\n",
       "      <td>1.706581e+07</td>\n",
       "    </tr>\n",
       "    <tr>\n",
       "      <th>min</th>\n",
       "      <td>1997.000000</td>\n",
       "      <td>4.000000e-02</td>\n",
       "      <td>0.000000e+00</td>\n",
       "    </tr>\n",
       "    <tr>\n",
       "      <th>25%</th>\n",
       "      <td>2002.000000</td>\n",
       "      <td>8.000000e+01</td>\n",
       "      <td>8.800000e+01</td>\n",
       "    </tr>\n",
       "    <tr>\n",
       "      <th>50%</th>\n",
       "      <td>2006.000000</td>\n",
       "      <td>5.820000e+02</td>\n",
       "      <td>7.290000e+02</td>\n",
       "    </tr>\n",
       "    <tr>\n",
       "      <th>75%</th>\n",
       "      <td>2010.000000</td>\n",
       "      <td>4.392000e+03</td>\n",
       "      <td>7.023000e+03</td>\n",
       "    </tr>\n",
       "    <tr>\n",
       "      <th>max</th>\n",
       "      <td>2015.000000</td>\n",
       "      <td>8.580100e+06</td>\n",
       "      <td>1.250800e+09</td>\n",
       "    </tr>\n",
       "  </tbody>\n",
       "</table>\n",
       "</div>"
      ],
      "text/plain": [
       "           Crop_Year          Area    Production\n",
       "count  246091.000000  2.460910e+05  2.423610e+05\n",
       "mean     2005.643018  1.200282e+04  5.825034e+05\n",
       "std         4.952164  5.052340e+04  1.706581e+07\n",
       "min      1997.000000  4.000000e-02  0.000000e+00\n",
       "25%      2002.000000  8.000000e+01  8.800000e+01\n",
       "50%      2006.000000  5.820000e+02  7.290000e+02\n",
       "75%      2010.000000  4.392000e+03  7.023000e+03\n",
       "max      2015.000000  8.580100e+06  1.250800e+09"
      ]
     },
     "execution_count": 17,
     "metadata": {},
     "output_type": "execute_result"
    }
   ],
   "source": [
    "# statistical inference of the dataset\n",
    "\n",
    "crop_data.describe()"
   ]
  },
  {
   "cell_type": "code",
   "execution_count": 4,
   "metadata": {
    "colab": {
     "base_uri": "https://localhost:8080/"
    },
    "id": "etWFlfIWWdbC",
    "outputId": "da1e9f9d-7be3-4f1e-82c5-2c13d90d6004"
   },
   "outputs": [
    {
     "data": {
      "text/plain": [
       "State_Name          0\n",
       "District_Name       0\n",
       "Crop_Year           0\n",
       "Season              0\n",
       "Crop                0\n",
       "Area                0\n",
       "Production       3730\n",
       "dtype: int64"
      ]
     },
     "execution_count": 4,
     "metadata": {},
     "output_type": "execute_result"
    }
   ],
   "source": [
    "# Checking missing values of the dataset in each column\n",
    "crop_data.isnull().sum()"
   ]
  },
  {
   "cell_type": "code",
   "execution_count": 5,
   "metadata": {
    "colab": {
     "base_uri": "https://localhost:8080/",
     "height": 419
    },
    "id": "dJXZbZ3kWl2y",
    "outputId": "966857aa-75e4-4ff3-f243-bca316011054"
   },
   "outputs": [
    {
     "data": {
      "text/html": [
       "<div>\n",
       "<style scoped>\n",
       "    .dataframe tbody tr th:only-of-type {\n",
       "        vertical-align: middle;\n",
       "    }\n",
       "\n",
       "    .dataframe tbody tr th {\n",
       "        vertical-align: top;\n",
       "    }\n",
       "\n",
       "    .dataframe thead th {\n",
       "        text-align: right;\n",
       "    }\n",
       "</style>\n",
       "<table border=\"1\" class=\"dataframe\">\n",
       "  <thead>\n",
       "    <tr style=\"text-align: right;\">\n",
       "      <th></th>\n",
       "      <th>State_Name</th>\n",
       "      <th>District_Name</th>\n",
       "      <th>Crop_Year</th>\n",
       "      <th>Season</th>\n",
       "      <th>Crop</th>\n",
       "      <th>Area</th>\n",
       "      <th>Production</th>\n",
       "    </tr>\n",
       "  </thead>\n",
       "  <tbody>\n",
       "    <tr>\n",
       "      <th>0</th>\n",
       "      <td>Andaman and Nicobar Islands</td>\n",
       "      <td>NICOBARS</td>\n",
       "      <td>2000</td>\n",
       "      <td>Kharif</td>\n",
       "      <td>Arecanut</td>\n",
       "      <td>1254.0</td>\n",
       "      <td>2000.0</td>\n",
       "    </tr>\n",
       "    <tr>\n",
       "      <th>1</th>\n",
       "      <td>Andaman and Nicobar Islands</td>\n",
       "      <td>NICOBARS</td>\n",
       "      <td>2000</td>\n",
       "      <td>Kharif</td>\n",
       "      <td>Other Kharif pulses</td>\n",
       "      <td>2.0</td>\n",
       "      <td>1.0</td>\n",
       "    </tr>\n",
       "    <tr>\n",
       "      <th>2</th>\n",
       "      <td>Andaman and Nicobar Islands</td>\n",
       "      <td>NICOBARS</td>\n",
       "      <td>2000</td>\n",
       "      <td>Kharif</td>\n",
       "      <td>Rice</td>\n",
       "      <td>102.0</td>\n",
       "      <td>321.0</td>\n",
       "    </tr>\n",
       "    <tr>\n",
       "      <th>3</th>\n",
       "      <td>Andaman and Nicobar Islands</td>\n",
       "      <td>NICOBARS</td>\n",
       "      <td>2000</td>\n",
       "      <td>Whole Year</td>\n",
       "      <td>Banana</td>\n",
       "      <td>176.0</td>\n",
       "      <td>641.0</td>\n",
       "    </tr>\n",
       "    <tr>\n",
       "      <th>4</th>\n",
       "      <td>Andaman and Nicobar Islands</td>\n",
       "      <td>NICOBARS</td>\n",
       "      <td>2000</td>\n",
       "      <td>Whole Year</td>\n",
       "      <td>Cashewnut</td>\n",
       "      <td>720.0</td>\n",
       "      <td>165.0</td>\n",
       "    </tr>\n",
       "    <tr>\n",
       "      <th>...</th>\n",
       "      <td>...</td>\n",
       "      <td>...</td>\n",
       "      <td>...</td>\n",
       "      <td>...</td>\n",
       "      <td>...</td>\n",
       "      <td>...</td>\n",
       "      <td>...</td>\n",
       "    </tr>\n",
       "    <tr>\n",
       "      <th>246086</th>\n",
       "      <td>West Bengal</td>\n",
       "      <td>PURULIA</td>\n",
       "      <td>2014</td>\n",
       "      <td>Summer</td>\n",
       "      <td>Rice</td>\n",
       "      <td>306.0</td>\n",
       "      <td>801.0</td>\n",
       "    </tr>\n",
       "    <tr>\n",
       "      <th>246087</th>\n",
       "      <td>West Bengal</td>\n",
       "      <td>PURULIA</td>\n",
       "      <td>2014</td>\n",
       "      <td>Summer</td>\n",
       "      <td>Sesamum</td>\n",
       "      <td>627.0</td>\n",
       "      <td>463.0</td>\n",
       "    </tr>\n",
       "    <tr>\n",
       "      <th>246088</th>\n",
       "      <td>West Bengal</td>\n",
       "      <td>PURULIA</td>\n",
       "      <td>2014</td>\n",
       "      <td>Whole Year</td>\n",
       "      <td>Sugarcane</td>\n",
       "      <td>324.0</td>\n",
       "      <td>16250.0</td>\n",
       "    </tr>\n",
       "    <tr>\n",
       "      <th>246089</th>\n",
       "      <td>West Bengal</td>\n",
       "      <td>PURULIA</td>\n",
       "      <td>2014</td>\n",
       "      <td>Winter</td>\n",
       "      <td>Rice</td>\n",
       "      <td>279151.0</td>\n",
       "      <td>597899.0</td>\n",
       "    </tr>\n",
       "    <tr>\n",
       "      <th>246090</th>\n",
       "      <td>West Bengal</td>\n",
       "      <td>PURULIA</td>\n",
       "      <td>2014</td>\n",
       "      <td>Winter</td>\n",
       "      <td>Sesamum</td>\n",
       "      <td>175.0</td>\n",
       "      <td>88.0</td>\n",
       "    </tr>\n",
       "  </tbody>\n",
       "</table>\n",
       "<p>242361 rows × 7 columns</p>\n",
       "</div>"
      ],
      "text/plain": [
       "                         State_Name District_Name  Crop_Year       Season  \\\n",
       "0       Andaman and Nicobar Islands      NICOBARS       2000  Kharif        \n",
       "1       Andaman and Nicobar Islands      NICOBARS       2000  Kharif        \n",
       "2       Andaman and Nicobar Islands      NICOBARS       2000  Kharif        \n",
       "3       Andaman and Nicobar Islands      NICOBARS       2000  Whole Year    \n",
       "4       Andaman and Nicobar Islands      NICOBARS       2000  Whole Year    \n",
       "...                             ...           ...        ...          ...   \n",
       "246086                  West Bengal       PURULIA       2014  Summer        \n",
       "246087                  West Bengal       PURULIA       2014  Summer        \n",
       "246088                  West Bengal       PURULIA       2014  Whole Year    \n",
       "246089                  West Bengal       PURULIA       2014  Winter        \n",
       "246090                  West Bengal       PURULIA       2014  Winter        \n",
       "\n",
       "                       Crop      Area  Production  \n",
       "0                  Arecanut    1254.0      2000.0  \n",
       "1       Other Kharif pulses       2.0         1.0  \n",
       "2                      Rice     102.0       321.0  \n",
       "3                    Banana     176.0       641.0  \n",
       "4                 Cashewnut     720.0       165.0  \n",
       "...                     ...       ...         ...  \n",
       "246086                 Rice     306.0       801.0  \n",
       "246087              Sesamum     627.0       463.0  \n",
       "246088            Sugarcane     324.0     16250.0  \n",
       "246089                 Rice  279151.0    597899.0  \n",
       "246090              Sesamum     175.0        88.0  \n",
       "\n",
       "[242361 rows x 7 columns]"
      ]
     },
     "execution_count": 5,
     "metadata": {},
     "output_type": "execute_result"
    }
   ],
   "source": [
    "# Dropping missing values \n",
    "crop_data = crop_data.dropna()\n",
    "crop_data"
   ]
  },
  {
   "cell_type": "code",
   "execution_count": 20,
   "metadata": {
    "colab": {
     "base_uri": "https://localhost:8080/"
    },
    "id": "9fxHSTNWW59i",
    "outputId": "16b91af3-7003-4f9b-8d6c-3ecd70bd9099"
   },
   "outputs": [
    {
     "data": {
      "text/plain": [
       "False"
      ]
     },
     "execution_count": 20,
     "metadata": {},
     "output_type": "execute_result"
    }
   ],
   "source": [
    "#checking\n",
    "crop_data.isnull().values.any()\n"
   ]
  },
  {
   "cell_type": "code",
   "execution_count": 21,
   "metadata": {
    "colab": {
     "base_uri": "https://localhost:8080/"
    },
    "id": "5SRKh8GqXbfR",
    "outputId": "853e5dd9-c0eb-44a4-f783-b3aa4952f638"
   },
   "outputs": [
    {
     "data": {
      "text/plain": [
       "array(['Andaman and Nicobar Islands', 'Andhra Pradesh',\n",
       "       'Arunachal Pradesh', 'Assam', 'Bihar', 'Chandigarh',\n",
       "       'Chhattisgarh', 'Dadra and Nagar Haveli', 'Goa', 'Gujarat',\n",
       "       'Haryana', 'Himachal Pradesh', 'Jammu and Kashmir ', 'Jharkhand',\n",
       "       'Karnataka', 'Kerala', 'Madhya Pradesh', 'Maharashtra', 'Manipur',\n",
       "       'Meghalaya', 'Mizoram', 'Nagaland', 'Odisha', 'Puducherry',\n",
       "       'Punjab', 'Rajasthan', 'Sikkim', 'Tamil Nadu', 'Telangana ',\n",
       "       'Tripura', 'Uttar Pradesh', 'Uttarakhand', 'West Bengal'],\n",
       "      dtype=object)"
      ]
     },
     "execution_count": 21,
     "metadata": {},
     "output_type": "execute_result"
    }
   ],
   "source": [
    "# Displaying State Names present in the dataset\n",
    "crop_data.State_Name.unique()"
   ]
  },
  {
   "cell_type": "code",
   "execution_count": 10,
   "metadata": {
    "colab": {
     "base_uri": "https://localhost:8080/",
     "height": 663
    },
    "id": "N6W9rKGRQMbJ",
    "outputId": "b6b5a0c5-1f99-4cf4-e782-cabc8d10fa50"
   },
   "outputs": [
    {
     "name": "stderr",
     "output_type": "stream",
     "text": [
      "C:\\Users\\ASUS\\AppData\\Local\\Temp\\ipykernel_8620\\416474790.py:3: SettingWithCopyWarning: \n",
      "A value is trying to be set on a copy of a slice from a DataFrame.\n",
      "Try using .loc[row_indexer,col_indexer] = value instead\n",
      "\n",
      "See the caveats in the documentation: https://pandas.pydata.org/pandas-docs/stable/user_guide/indexing.html#returning-a-view-versus-a-copy\n",
      "  crop_data['Yield'] = (crop_data['Production'] / crop_data['Area'])\n"
     ]
    },
    {
     "data": {
      "text/html": [
       "<div>\n",
       "<style scoped>\n",
       "    .dataframe tbody tr th:only-of-type {\n",
       "        vertical-align: middle;\n",
       "    }\n",
       "\n",
       "    .dataframe tbody tr th {\n",
       "        vertical-align: top;\n",
       "    }\n",
       "\n",
       "    .dataframe thead th {\n",
       "        text-align: right;\n",
       "    }\n",
       "</style>\n",
       "<table border=\"1\" class=\"dataframe\">\n",
       "  <thead>\n",
       "    <tr style=\"text-align: right;\">\n",
       "      <th></th>\n",
       "      <th>State_Name</th>\n",
       "      <th>District_Name</th>\n",
       "      <th>Crop_Year</th>\n",
       "      <th>Season</th>\n",
       "      <th>Crop</th>\n",
       "      <th>Area</th>\n",
       "      <th>Production</th>\n",
       "      <th>Yield</th>\n",
       "    </tr>\n",
       "  </thead>\n",
       "  <tbody>\n",
       "    <tr>\n",
       "      <th>0</th>\n",
       "      <td>Andaman and Nicobar Islands</td>\n",
       "      <td>NICOBARS</td>\n",
       "      <td>2000</td>\n",
       "      <td>Kharif</td>\n",
       "      <td>Arecanut</td>\n",
       "      <td>1254.0</td>\n",
       "      <td>2000.0</td>\n",
       "      <td>1.594896</td>\n",
       "    </tr>\n",
       "    <tr>\n",
       "      <th>1</th>\n",
       "      <td>Andaman and Nicobar Islands</td>\n",
       "      <td>NICOBARS</td>\n",
       "      <td>2000</td>\n",
       "      <td>Kharif</td>\n",
       "      <td>Other Kharif pulses</td>\n",
       "      <td>2.0</td>\n",
       "      <td>1.0</td>\n",
       "      <td>0.500000</td>\n",
       "    </tr>\n",
       "    <tr>\n",
       "      <th>2</th>\n",
       "      <td>Andaman and Nicobar Islands</td>\n",
       "      <td>NICOBARS</td>\n",
       "      <td>2000</td>\n",
       "      <td>Kharif</td>\n",
       "      <td>Rice</td>\n",
       "      <td>102.0</td>\n",
       "      <td>321.0</td>\n",
       "      <td>3.147059</td>\n",
       "    </tr>\n",
       "    <tr>\n",
       "      <th>3</th>\n",
       "      <td>Andaman and Nicobar Islands</td>\n",
       "      <td>NICOBARS</td>\n",
       "      <td>2000</td>\n",
       "      <td>Whole Year</td>\n",
       "      <td>Banana</td>\n",
       "      <td>176.0</td>\n",
       "      <td>641.0</td>\n",
       "      <td>3.642045</td>\n",
       "    </tr>\n",
       "    <tr>\n",
       "      <th>4</th>\n",
       "      <td>Andaman and Nicobar Islands</td>\n",
       "      <td>NICOBARS</td>\n",
       "      <td>2000</td>\n",
       "      <td>Whole Year</td>\n",
       "      <td>Cashewnut</td>\n",
       "      <td>720.0</td>\n",
       "      <td>165.0</td>\n",
       "      <td>0.229167</td>\n",
       "    </tr>\n",
       "    <tr>\n",
       "      <th>5</th>\n",
       "      <td>Andaman and Nicobar Islands</td>\n",
       "      <td>NICOBARS</td>\n",
       "      <td>2000</td>\n",
       "      <td>Whole Year</td>\n",
       "      <td>Coconut</td>\n",
       "      <td>18168.0</td>\n",
       "      <td>65100000.0</td>\n",
       "      <td>3583.223250</td>\n",
       "    </tr>\n",
       "    <tr>\n",
       "      <th>6</th>\n",
       "      <td>Andaman and Nicobar Islands</td>\n",
       "      <td>NICOBARS</td>\n",
       "      <td>2000</td>\n",
       "      <td>Whole Year</td>\n",
       "      <td>Dry ginger</td>\n",
       "      <td>36.0</td>\n",
       "      <td>100.0</td>\n",
       "      <td>2.777778</td>\n",
       "    </tr>\n",
       "    <tr>\n",
       "      <th>7</th>\n",
       "      <td>Andaman and Nicobar Islands</td>\n",
       "      <td>NICOBARS</td>\n",
       "      <td>2000</td>\n",
       "      <td>Whole Year</td>\n",
       "      <td>Sugarcane</td>\n",
       "      <td>1.0</td>\n",
       "      <td>2.0</td>\n",
       "      <td>2.000000</td>\n",
       "    </tr>\n",
       "    <tr>\n",
       "      <th>8</th>\n",
       "      <td>Andaman and Nicobar Islands</td>\n",
       "      <td>NICOBARS</td>\n",
       "      <td>2000</td>\n",
       "      <td>Whole Year</td>\n",
       "      <td>Sweet potato</td>\n",
       "      <td>5.0</td>\n",
       "      <td>15.0</td>\n",
       "      <td>3.000000</td>\n",
       "    </tr>\n",
       "    <tr>\n",
       "      <th>9</th>\n",
       "      <td>Andaman and Nicobar Islands</td>\n",
       "      <td>NICOBARS</td>\n",
       "      <td>2000</td>\n",
       "      <td>Whole Year</td>\n",
       "      <td>Tapioca</td>\n",
       "      <td>40.0</td>\n",
       "      <td>169.0</td>\n",
       "      <td>4.225000</td>\n",
       "    </tr>\n",
       "  </tbody>\n",
       "</table>\n",
       "</div>"
      ],
      "text/plain": [
       "                    State_Name District_Name  Crop_Year       Season  \\\n",
       "0  Andaman and Nicobar Islands      NICOBARS       2000  Kharif        \n",
       "1  Andaman and Nicobar Islands      NICOBARS       2000  Kharif        \n",
       "2  Andaman and Nicobar Islands      NICOBARS       2000  Kharif        \n",
       "3  Andaman and Nicobar Islands      NICOBARS       2000  Whole Year    \n",
       "4  Andaman and Nicobar Islands      NICOBARS       2000  Whole Year    \n",
       "5  Andaman and Nicobar Islands      NICOBARS       2000  Whole Year    \n",
       "6  Andaman and Nicobar Islands      NICOBARS       2000  Whole Year    \n",
       "7  Andaman and Nicobar Islands      NICOBARS       2000  Whole Year    \n",
       "8  Andaman and Nicobar Islands      NICOBARS       2000  Whole Year    \n",
       "9  Andaman and Nicobar Islands      NICOBARS       2000  Whole Year    \n",
       "\n",
       "                  Crop     Area  Production        Yield  \n",
       "0             Arecanut   1254.0      2000.0     1.594896  \n",
       "1  Other Kharif pulses      2.0         1.0     0.500000  \n",
       "2                 Rice    102.0       321.0     3.147059  \n",
       "3               Banana    176.0       641.0     3.642045  \n",
       "4            Cashewnut    720.0       165.0     0.229167  \n",
       "5             Coconut   18168.0  65100000.0  3583.223250  \n",
       "6           Dry ginger     36.0       100.0     2.777778  \n",
       "7            Sugarcane      1.0         2.0     2.000000  \n",
       "8         Sweet potato      5.0        15.0     3.000000  \n",
       "9              Tapioca     40.0       169.0     4.225000  "
      ]
     },
     "execution_count": 10,
     "metadata": {},
     "output_type": "execute_result"
    }
   ],
   "source": [
    "# Adding a new column Yield which indicates Production per unit Area. \n",
    "\n",
    "crop_data['Yield'] = (crop_data['Production'] / crop_data['Area'])\n",
    "crop_data.head(10) "
   ]
  },
  {
   "cell_type": "code",
   "execution_count": 12,
   "metadata": {
    "id": "yiGXMLevMBpN"
   },
   "outputs": [],
   "source": [
    "# Dropping unnecessary columns\n",
    "\n",
    "crop_data = crop_data.loc[crop_data['State_Name']=='Maharashtra']\n",
    "\n",
    "data = crop_data.drop(['State_Name', 'Crop_Year'], axis = 1)"
   ]
  },
  {
   "cell_type": "code",
   "execution_count": 13,
   "metadata": {},
   "outputs": [
    {
     "name": "stderr",
     "output_type": "stream",
     "text": [
      "C:\\Users\\ASUS\\AppData\\Local\\Temp\\ipykernel_8620\\2627137660.py:1: FutureWarning: The default value of numeric_only in DataFrame.corr is deprecated. In a future version, it will default to False. Select only valid columns or specify the value of numeric_only to silence this warning.\n",
      "  data.corr()\n"
     ]
    },
    {
     "data": {
      "text/html": [
       "<div>\n",
       "<style scoped>\n",
       "    .dataframe tbody tr th:only-of-type {\n",
       "        vertical-align: middle;\n",
       "    }\n",
       "\n",
       "    .dataframe tbody tr th {\n",
       "        vertical-align: top;\n",
       "    }\n",
       "\n",
       "    .dataframe thead th {\n",
       "        text-align: right;\n",
       "    }\n",
       "</style>\n",
       "<table border=\"1\" class=\"dataframe\">\n",
       "  <thead>\n",
       "    <tr style=\"text-align: right;\">\n",
       "      <th></th>\n",
       "      <th>Area</th>\n",
       "      <th>Production</th>\n",
       "      <th>Yield</th>\n",
       "    </tr>\n",
       "  </thead>\n",
       "  <tbody>\n",
       "    <tr>\n",
       "      <th>Area</th>\n",
       "      <td>1.000000</td>\n",
       "      <td>0.167837</td>\n",
       "      <td>-0.006498</td>\n",
       "    </tr>\n",
       "    <tr>\n",
       "      <th>Production</th>\n",
       "      <td>0.167837</td>\n",
       "      <td>1.000000</td>\n",
       "      <td>0.280558</td>\n",
       "    </tr>\n",
       "    <tr>\n",
       "      <th>Yield</th>\n",
       "      <td>-0.006498</td>\n",
       "      <td>0.280558</td>\n",
       "      <td>1.000000</td>\n",
       "    </tr>\n",
       "  </tbody>\n",
       "</table>\n",
       "</div>"
      ],
      "text/plain": [
       "                Area  Production     Yield\n",
       "Area        1.000000    0.167837 -0.006498\n",
       "Production  0.167837    1.000000  0.280558\n",
       "Yield      -0.006498    0.280558  1.000000"
      ]
     },
     "execution_count": 13,
     "metadata": {},
     "output_type": "execute_result"
    }
   ],
   "source": [
    "data.corr()"
   ]
  },
  {
   "cell_type": "code",
   "execution_count": 14,
   "metadata": {},
   "outputs": [
    {
     "name": "stderr",
     "output_type": "stream",
     "text": [
      "C:\\Users\\ASUS\\AppData\\Local\\Temp\\ipykernel_8620\\1522484008.py:1: FutureWarning: The default value of numeric_only in DataFrame.corr is deprecated. In a future version, it will default to False. Select only valid columns or specify the value of numeric_only to silence this warning.\n",
      "  sns.heatmap(data.corr(), annot =True)\n"
     ]
    },
    {
     "data": {
      "text/plain": [
       "Text(0.5, 1.0, 'Correlation Matrix')"
      ]
     },
     "execution_count": 14,
     "metadata": {},
     "output_type": "execute_result"
    },
    {
     "data": {
      "image/png": "[encoded data removed]",
      "text/plain": [
       "<Figure size 640x480 with 2 Axes>"
      ]
     },
     "metadata": {},
     "output_type": "display_data"
    }
   ],
   "source": [
    "sns.heatmap(data.corr(), annot =True)\n",
    "plt.title('Correlation Matrix')"
   ]
  },
  {
   "cell_type": "code",
   "execution_count": 15,
   "metadata": {
    "colab": {
     "base_uri": "https://localhost:8080/",
     "height": 473
    },
    "id": "5D80WMCwKLaY",
    "outputId": "e5bb1da9-4574-4461-b2ca-059224571f68"
   },
   "outputs": [
    {
     "data": {
      "text/html": [
       "<div>\n",
       "<style scoped>\n",
       "    .dataframe tbody tr th:only-of-type {\n",
       "        vertical-align: middle;\n",
       "    }\n",
       "\n",
       "    .dataframe tbody tr th {\n",
       "        vertical-align: top;\n",
       "    }\n",
       "\n",
       "    .dataframe thead th {\n",
       "        text-align: right;\n",
       "    }\n",
       "</style>\n",
       "<table border=\"1\" class=\"dataframe\">\n",
       "  <thead>\n",
       "    <tr style=\"text-align: right;\">\n",
       "      <th></th>\n",
       "      <th>Area</th>\n",
       "      <th>Production</th>\n",
       "      <th>Yield</th>\n",
       "      <th>District_Name_AHMEDNAGAR</th>\n",
       "      <th>District_Name_AKOLA</th>\n",
       "      <th>District_Name_AMRAVATI</th>\n",
       "      <th>District_Name_AURANGABAD</th>\n",
       "      <th>District_Name_BEED</th>\n",
       "      <th>District_Name_BHANDARA</th>\n",
       "      <th>District_Name_BULDHANA</th>\n",
       "      <th>...</th>\n",
       "      <th>Crop_Small millets</th>\n",
       "      <th>Crop_Soyabean</th>\n",
       "      <th>Crop_Sugarcane</th>\n",
       "      <th>Crop_Sunflower</th>\n",
       "      <th>Crop_Tobacco</th>\n",
       "      <th>Crop_Tomato</th>\n",
       "      <th>Crop_Total foodgrain</th>\n",
       "      <th>Crop_Urad</th>\n",
       "      <th>Crop_Wheat</th>\n",
       "      <th>Crop_other oilseeds</th>\n",
       "    </tr>\n",
       "  </thead>\n",
       "  <tbody>\n",
       "    <tr>\n",
       "      <th>125191</th>\n",
       "      <td>1.0</td>\n",
       "      <td>1113.0</td>\n",
       "      <td>1113.000000</td>\n",
       "      <td>1</td>\n",
       "      <td>0</td>\n",
       "      <td>0</td>\n",
       "      <td>0</td>\n",
       "      <td>0</td>\n",
       "      <td>0</td>\n",
       "      <td>0</td>\n",
       "      <td>...</td>\n",
       "      <td>0</td>\n",
       "      <td>0</td>\n",
       "      <td>0</td>\n",
       "      <td>0</td>\n",
       "      <td>0</td>\n",
       "      <td>0</td>\n",
       "      <td>0</td>\n",
       "      <td>0</td>\n",
       "      <td>0</td>\n",
       "      <td>0</td>\n",
       "    </tr>\n",
       "    <tr>\n",
       "      <th>125192</th>\n",
       "      <td>17600.0</td>\n",
       "      <td>6300.0</td>\n",
       "      <td>0.357955</td>\n",
       "      <td>1</td>\n",
       "      <td>0</td>\n",
       "      <td>0</td>\n",
       "      <td>0</td>\n",
       "      <td>0</td>\n",
       "      <td>0</td>\n",
       "      <td>0</td>\n",
       "      <td>...</td>\n",
       "      <td>0</td>\n",
       "      <td>0</td>\n",
       "      <td>0</td>\n",
       "      <td>0</td>\n",
       "      <td>0</td>\n",
       "      <td>0</td>\n",
       "      <td>0</td>\n",
       "      <td>0</td>\n",
       "      <td>0</td>\n",
       "      <td>0</td>\n",
       "    </tr>\n",
       "    <tr>\n",
       "      <th>125193</th>\n",
       "      <td>274100.0</td>\n",
       "      <td>152800.0</td>\n",
       "      <td>0.557461</td>\n",
       "      <td>1</td>\n",
       "      <td>0</td>\n",
       "      <td>0</td>\n",
       "      <td>0</td>\n",
       "      <td>0</td>\n",
       "      <td>0</td>\n",
       "      <td>0</td>\n",
       "      <td>...</td>\n",
       "      <td>0</td>\n",
       "      <td>0</td>\n",
       "      <td>0</td>\n",
       "      <td>0</td>\n",
       "      <td>0</td>\n",
       "      <td>0</td>\n",
       "      <td>0</td>\n",
       "      <td>0</td>\n",
       "      <td>0</td>\n",
       "      <td>0</td>\n",
       "    </tr>\n",
       "    <tr>\n",
       "      <th>125194</th>\n",
       "      <td>40800.0</td>\n",
       "      <td>18600.0</td>\n",
       "      <td>0.455882</td>\n",
       "      <td>1</td>\n",
       "      <td>0</td>\n",
       "      <td>0</td>\n",
       "      <td>0</td>\n",
       "      <td>0</td>\n",
       "      <td>0</td>\n",
       "      <td>0</td>\n",
       "      <td>...</td>\n",
       "      <td>0</td>\n",
       "      <td>0</td>\n",
       "      <td>0</td>\n",
       "      <td>0</td>\n",
       "      <td>0</td>\n",
       "      <td>0</td>\n",
       "      <td>0</td>\n",
       "      <td>0</td>\n",
       "      <td>0</td>\n",
       "      <td>0</td>\n",
       "    </tr>\n",
       "    <tr>\n",
       "      <th>125195</th>\n",
       "      <td>900.0</td>\n",
       "      <td>1100.0</td>\n",
       "      <td>1.222222</td>\n",
       "      <td>1</td>\n",
       "      <td>0</td>\n",
       "      <td>0</td>\n",
       "      <td>0</td>\n",
       "      <td>0</td>\n",
       "      <td>0</td>\n",
       "      <td>0</td>\n",
       "      <td>...</td>\n",
       "      <td>0</td>\n",
       "      <td>0</td>\n",
       "      <td>0</td>\n",
       "      <td>0</td>\n",
       "      <td>0</td>\n",
       "      <td>0</td>\n",
       "      <td>0</td>\n",
       "      <td>0</td>\n",
       "      <td>0</td>\n",
       "      <td>0</td>\n",
       "    </tr>\n",
       "    <tr>\n",
       "      <th>...</th>\n",
       "      <td>...</td>\n",
       "      <td>...</td>\n",
       "      <td>...</td>\n",
       "      <td>...</td>\n",
       "      <td>...</td>\n",
       "      <td>...</td>\n",
       "      <td>...</td>\n",
       "      <td>...</td>\n",
       "      <td>...</td>\n",
       "      <td>...</td>\n",
       "      <td>...</td>\n",
       "      <td>...</td>\n",
       "      <td>...</td>\n",
       "      <td>...</td>\n",
       "      <td>...</td>\n",
       "      <td>...</td>\n",
       "      <td>...</td>\n",
       "      <td>...</td>\n",
       "      <td>...</td>\n",
       "      <td>...</td>\n",
       "      <td>...</td>\n",
       "    </tr>\n",
       "    <tr>\n",
       "      <th>137814</th>\n",
       "      <td>4000.0</td>\n",
       "      <td>3300.0</td>\n",
       "      <td>0.825000</td>\n",
       "      <td>0</td>\n",
       "      <td>0</td>\n",
       "      <td>0</td>\n",
       "      <td>0</td>\n",
       "      <td>0</td>\n",
       "      <td>0</td>\n",
       "      <td>0</td>\n",
       "      <td>...</td>\n",
       "      <td>0</td>\n",
       "      <td>0</td>\n",
       "      <td>0</td>\n",
       "      <td>0</td>\n",
       "      <td>0</td>\n",
       "      <td>0</td>\n",
       "      <td>0</td>\n",
       "      <td>0</td>\n",
       "      <td>0</td>\n",
       "      <td>0</td>\n",
       "    </tr>\n",
       "    <tr>\n",
       "      <th>137815</th>\n",
       "      <td>1300.0</td>\n",
       "      <td>200.0</td>\n",
       "      <td>0.153846</td>\n",
       "      <td>0</td>\n",
       "      <td>0</td>\n",
       "      <td>0</td>\n",
       "      <td>0</td>\n",
       "      <td>0</td>\n",
       "      <td>0</td>\n",
       "      <td>0</td>\n",
       "      <td>...</td>\n",
       "      <td>0</td>\n",
       "      <td>0</td>\n",
       "      <td>0</td>\n",
       "      <td>0</td>\n",
       "      <td>0</td>\n",
       "      <td>0</td>\n",
       "      <td>0</td>\n",
       "      <td>0</td>\n",
       "      <td>0</td>\n",
       "      <td>0</td>\n",
       "    </tr>\n",
       "    <tr>\n",
       "      <th>137816</th>\n",
       "      <td>29100.0</td>\n",
       "      <td>26800.0</td>\n",
       "      <td>0.920962</td>\n",
       "      <td>0</td>\n",
       "      <td>0</td>\n",
       "      <td>0</td>\n",
       "      <td>0</td>\n",
       "      <td>0</td>\n",
       "      <td>0</td>\n",
       "      <td>0</td>\n",
       "      <td>...</td>\n",
       "      <td>0</td>\n",
       "      <td>0</td>\n",
       "      <td>0</td>\n",
       "      <td>0</td>\n",
       "      <td>0</td>\n",
       "      <td>0</td>\n",
       "      <td>0</td>\n",
       "      <td>0</td>\n",
       "      <td>1</td>\n",
       "      <td>0</td>\n",
       "    </tr>\n",
       "    <tr>\n",
       "      <th>137817</th>\n",
       "      <td>9400.0</td>\n",
       "      <td>11500.0</td>\n",
       "      <td>1.223404</td>\n",
       "      <td>0</td>\n",
       "      <td>0</td>\n",
       "      <td>0</td>\n",
       "      <td>0</td>\n",
       "      <td>0</td>\n",
       "      <td>0</td>\n",
       "      <td>0</td>\n",
       "      <td>...</td>\n",
       "      <td>0</td>\n",
       "      <td>0</td>\n",
       "      <td>0</td>\n",
       "      <td>0</td>\n",
       "      <td>0</td>\n",
       "      <td>0</td>\n",
       "      <td>0</td>\n",
       "      <td>0</td>\n",
       "      <td>0</td>\n",
       "      <td>0</td>\n",
       "    </tr>\n",
       "    <tr>\n",
       "      <th>137818</th>\n",
       "      <td>8100.0</td>\n",
       "      <td>553700.0</td>\n",
       "      <td>68.358025</td>\n",
       "      <td>0</td>\n",
       "      <td>0</td>\n",
       "      <td>0</td>\n",
       "      <td>0</td>\n",
       "      <td>0</td>\n",
       "      <td>0</td>\n",
       "      <td>0</td>\n",
       "      <td>...</td>\n",
       "      <td>0</td>\n",
       "      <td>0</td>\n",
       "      <td>1</td>\n",
       "      <td>0</td>\n",
       "      <td>0</td>\n",
       "      <td>0</td>\n",
       "      <td>0</td>\n",
       "      <td>0</td>\n",
       "      <td>0</td>\n",
       "      <td>0</td>\n",
       "    </tr>\n",
       "  </tbody>\n",
       "</table>\n",
       "<p>12496 rows × 77 columns</p>\n",
       "</div>"
      ],
      "text/plain": [
       "            Area  Production        Yield  District_Name_AHMEDNAGAR  \\\n",
       "125191       1.0      1113.0  1113.000000                         1   \n",
       "125192   17600.0      6300.0     0.357955                         1   \n",
       "125193  274100.0    152800.0     0.557461                         1   \n",
       "125194   40800.0     18600.0     0.455882                         1   \n",
       "125195     900.0      1100.0     1.222222                         1   \n",
       "...          ...         ...          ...                       ...   \n",
       "137814    4000.0      3300.0     0.825000                         0   \n",
       "137815    1300.0       200.0     0.153846                         0   \n",
       "137816   29100.0     26800.0     0.920962                         0   \n",
       "137817    9400.0     11500.0     1.223404                         0   \n",
       "137818    8100.0    553700.0    68.358025                         0   \n",
       "\n",
       "        District_Name_AKOLA  District_Name_AMRAVATI  District_Name_AURANGABAD  \\\n",
       "125191                    0                       0                         0   \n",
       "125192                    0                       0                         0   \n",
       "125193                    0                       0                         0   \n",
       "125194                    0                       0                         0   \n",
       "125195                    0                       0                         0   \n",
       "...                     ...                     ...                       ...   \n",
       "137814                    0                       0                         0   \n",
       "137815                    0                       0                         0   \n",
       "137816                    0                       0                         0   \n",
       "137817                    0                       0                         0   \n",
       "137818                    0                       0                         0   \n",
       "\n",
       "        District_Name_BEED  District_Name_BHANDARA  District_Name_BULDHANA  \\\n",
       "125191                   0                       0                       0   \n",
       "125192                   0                       0                       0   \n",
       "125193                   0                       0                       0   \n",
       "125194                   0                       0                       0   \n",
       "125195                   0                       0                       0   \n",
       "...                    ...                     ...                     ...   \n",
       "137814                   0                       0                       0   \n",
       "137815                   0                       0                       0   \n",
       "137816                   0                       0                       0   \n",
       "137817                   0                       0                       0   \n",
       "137818                   0                       0                       0   \n",
       "\n",
       "        ...  Crop_Small millets  Crop_Soyabean  Crop_Sugarcane  \\\n",
       "125191  ...                   0              0               0   \n",
       "125192  ...                   0              0               0   \n",
       "125193  ...                   0              0               0   \n",
       "125194  ...                   0              0               0   \n",
       "125195  ...                   0              0               0   \n",
       "...     ...                 ...            ...             ...   \n",
       "137814  ...                   0              0               0   \n",
       "137815  ...                   0              0               0   \n",
       "137816  ...                   0              0               0   \n",
       "137817  ...                   0              0               0   \n",
       "137818  ...                   0              0               1   \n",
       "\n",
       "        Crop_Sunflower  Crop_Tobacco  Crop_Tomato  Crop_Total foodgrain  \\\n",
       "125191               0             0            0                     0   \n",
       "125192               0             0            0                     0   \n",
       "125193               0             0            0                     0   \n",
       "125194               0             0            0                     0   \n",
       "125195               0             0            0                     0   \n",
       "...                ...           ...          ...                   ...   \n",
       "137814               0             0            0                     0   \n",
       "137815               0             0            0                     0   \n",
       "137816               0             0            0                     0   \n",
       "137817               0             0            0                     0   \n",
       "137818               0             0            0                     0   \n",
       "\n",
       "        Crop_Urad  Crop_Wheat  Crop_other oilseeds  \n",
       "125191          0           0                    0  \n",
       "125192          0           0                    0  \n",
       "125193          0           0                    0  \n",
       "125194          0           0                    0  \n",
       "125195          0           0                    0  \n",
       "...           ...         ...                  ...  \n",
       "137814          0           0                    0  \n",
       "137815          0           0                    0  \n",
       "137816          0           1                    0  \n",
       "137817          0           0                    0  \n",
       "137818          0           0                    0  \n",
       "\n",
       "[12496 rows x 77 columns]"
      ]
     },
     "execution_count": 15,
     "metadata": {},
     "output_type": "execute_result"
    }
   ],
   "source": [
    "dummy = pd.get_dummies(data)\n",
    "dummy\n"
   ]
  },
  {
   "cell_type": "markdown",
   "metadata": {
    "id": "WcKWxtwOQ2oP"
   },
   "source": [
    "<b><i> Splitting dataset into train and test dataset </i></b>"
   ]
  },
  {
   "cell_type": "code",
   "execution_count": 16,
   "metadata": {
    "colab": {
     "base_uri": "https://localhost:8080/"
    },
    "id": "N2D3e349PCmJ",
    "outputId": "2b462e1f-7dc2-472b-e46d-559d038de1f4"
   },
   "outputs": [
    {
     "name": "stdout",
     "output_type": "stream",
     "text": [
      "x_train : (9372, 75)\n",
      "x_test : (3124, 75)\n",
      "y_train : (9372,)\n",
      "y_test : (3124,)\n"
     ]
    }
   ],
   "source": [
    "\n",
    "from sklearn.model_selection import train_test_split\n",
    "\n",
    "x = dummy.drop([\"Production\",\"Yield\"], axis=1)\n",
    "y = dummy[\"Production\"]\n",
    "\n",
    "# Splitting data set - 25% test dataset and 75% \n",
    "\n",
    "x_train,x_test,y_train,y_test = train_test_split(x,y,test_size=0.25, random_state=5)\n",
    "\n",
    "print(\"x_train :\",x_train.shape)\n",
    "print(\"x_test :\",x_test.shape)\n",
    "print(\"y_train :\",y_train.shape)\n",
    "print(\"y_test :\",y_test.shape)"
   ]
  },
  {
   "cell_type": "code",
   "execution_count": 17,
   "metadata": {},
   "outputs": [
    {
     "name": "stdout",
     "output_type": "stream",
     "text": [
      "            Area  District_Name_AHMEDNAGAR  District_Name_AKOLA  \\\n",
      "137799  285600.0                         0                    0   \n",
      "129278    1900.0                         0                    0   \n",
      "129035     500.0                         0                    0   \n",
      "136500    1000.0                         0                    0   \n",
      "130424    1700.0                         0                    0   \n",
      "...          ...                       ...                  ...   \n",
      "128265  179800.0                         0                    0   \n",
      "135201   13700.0                         0                    0   \n",
      "129307  113500.0                         0                    0   \n",
      "127470    6795.0                         0                    0   \n",
      "128134    1700.0                         0                    0   \n",
      "\n",
      "        District_Name_AMRAVATI  District_Name_AURANGABAD  District_Name_BEED  \\\n",
      "137799                       0                         0                   0   \n",
      "129278                       0                         0                   0   \n",
      "129035                       0                         0                   0   \n",
      "136500                       0                         0                   0   \n",
      "130424                       0                         0                   0   \n",
      "...                        ...                       ...                 ...   \n",
      "128265                       0                         0                   0   \n",
      "135201                       0                         0                   0   \n",
      "129307                       0                         0                   0   \n",
      "127470                       0                         0                   0   \n",
      "128134                       0                         0                   0   \n",
      "\n",
      "        District_Name_BHANDARA  District_Name_BULDHANA  \\\n",
      "137799                       0                       0   \n",
      "129278                       0                       0   \n",
      "129035                       0                       0   \n",
      "136500                       0                       0   \n",
      "130424                       0                       0   \n",
      "...                        ...                     ...   \n",
      "128265                       0                       0   \n",
      "135201                       0                       0   \n",
      "129307                       0                       0   \n",
      "127470                       1                       0   \n",
      "128134                       0                       0   \n",
      "\n",
      "        District_Name_CHANDRAPUR  District_Name_DHULE  ...  \\\n",
      "137799                         0                    0  ...   \n",
      "129278                         0                    0  ...   \n",
      "129035                         0                    0  ...   \n",
      "136500                         0                    0  ...   \n",
      "130424                         0                    0  ...   \n",
      "...                          ...                  ...  ...   \n",
      "128265                         1                    0  ...   \n",
      "135201                         0                    0  ...   \n",
      "129307                         0                    0  ...   \n",
      "127470                         0                    0  ...   \n",
      "128134                         1                    0  ...   \n",
      "\n",
      "        Crop_Small millets  Crop_Soyabean  Crop_Sugarcane  Crop_Sunflower  \\\n",
      "137799                   0              1               0               0   \n",
      "129278                   0              0               0               0   \n",
      "129035                   0              0               0               0   \n",
      "136500                   0              0               0               0   \n",
      "130424                   0              0               0               1   \n",
      "...                    ...            ...             ...             ...   \n",
      "128265                   0              1               0               0   \n",
      "135201                   0              0               0               0   \n",
      "129307                   0              0               0               0   \n",
      "127470                   0              0               0               0   \n",
      "128134                   0              0               0               0   \n",
      "\n",
      "        Crop_Tobacco  Crop_Tomato  Crop_Total foodgrain  Crop_Urad  \\\n",
      "137799             0            0                     0          0   \n",
      "129278             0            0                     0          0   \n",
      "129035             0            0                     0          0   \n",
      "136500             0            0                     0          0   \n",
      "130424             0            0                     0          0   \n",
      "...              ...          ...                   ...        ...   \n",
      "128265             0            0                     0          0   \n",
      "135201             0            0                     0          0   \n",
      "129307             0            0                     0          0   \n",
      "127470             0            0                     0          0   \n",
      "128134             0            0                     0          0   \n",
      "\n",
      "        Crop_Wheat  Crop_other oilseeds  \n",
      "137799           0                    0  \n",
      "129278           1                    0  \n",
      "129035           0                    0  \n",
      "136500           0                    0  \n",
      "130424           0                    0  \n",
      "...            ...                  ...  \n",
      "128265           0                    0  \n",
      "135201           0                    0  \n",
      "129307           0                    0  \n",
      "127470           0                    0  \n",
      "128134           0                    0  \n",
      "\n",
      "[9372 rows x 75 columns]\n",
      "137799    156600.0\n",
      "129278      1800.0\n",
      "129035       200.0\n",
      "136500       200.0\n",
      "130424      1000.0\n",
      "            ...   \n",
      "128265     62100.0\n",
      "135201      7000.0\n",
      "129307     97100.0\n",
      "127470     12560.0\n",
      "128134       400.0\n",
      "Name: Production, Length: 9372, dtype: float64\n"
     ]
    }
   ],
   "source": [
    "print(x_train)\n",
    "print(y_train)"
   ]
  },
  {
   "cell_type": "markdown",
   "metadata": {
    "id": "wOm0Nbu4hgcW"
   },
   "source": [
    "<b><h3> Linear Regression </b></h3>"
   ]
  },
  {
   "cell_type": "code",
   "execution_count": 18,
   "metadata": {
    "id": "QcmEJiH6hhBd"
   },
   "outputs": [
    {
     "data": {
      "text/html": [
       "<style>#sk-container-id-1 {color: black;background-color: white;}#sk-container-id-1 pre{padding: 0;}#sk-container-id-1 div.sk-toggleable {background-color: white;}#sk-container-id-1 label.sk-toggleable__label {cursor: pointer;display: block;width: 100%;margin-bottom: 0;padding: 0.3em;box-sizing: border-box;text-align: center;}#sk-container-id-1 label.sk-toggleable__label-arrow:before {content: \"▸\";float: left;margin-right: 0.25em;color: #696969;}#sk-container-id-1 label.sk-toggleable__label-arrow:hover:before {color: black;}#sk-container-id-1 div.sk-estimator:hover label.sk-toggleable__label-arrow:before {color: black;}#sk-container-id-1 div.sk-toggleable__content {max-height: 0;max-width: 0;overflow: hidden;text-align: left;background-color: #f0f8ff;}#sk-container-id-1 div.sk-toggleable__content pre {margin: 0.2em;color: black;border-radius: 0.25em;background-color: #f0f8ff;}#sk-container-id-1 input.sk-toggleable__control:checked~div.sk-toggleable__content {max-height: 200px;max-width: 100%;overflow: auto;}#sk-container-id-1 input.sk-toggleable__control:checked~label.sk-toggleable__label-arrow:before {content: \"▾\";}#sk-container-id-1 div.sk-estimator input.sk-toggleable__control:checked~label.sk-toggleable__label {background-color: #d4ebff;}#sk-container-id-1 div.sk-label input.sk-toggleable__control:checked~label.sk-toggleable__label {background-color: #d4ebff;}#sk-container-id-1 input.sk-hidden--visually {border: 0;clip: rect(1px 1px 1px 1px);clip: rect(1px, 1px, 1px, 1px);height: 1px;margin: -1px;overflow: hidden;padding: 0;position: absolute;width: 1px;}#sk-container-id-1 div.sk-estimator {font-family: monospace;background-color: #f0f8ff;border: 1px dotted black;border-radius: 0.25em;box-sizing: border-box;margin-bottom: 0.5em;}#sk-container-id-1 div.sk-estimator:hover {background-color: #d4ebff;}#sk-container-id-1 div.sk-parallel-item::after {content: \"\";width: 100%;border-bottom: 1px solid gray;flex-grow: 1;}#sk-container-id-1 div.sk-label:hover label.sk-toggleable__label {background-color: #d4ebff;}#sk-container-id-1 div.sk-serial::before {content: \"\";position: absolute;border-left: 1px solid gray;box-sizing: border-box;top: 0;bottom: 0;left: 50%;z-index: 0;}#sk-container-id-1 div.sk-serial {display: flex;flex-direction: column;align-items: center;background-color: white;padding-right: 0.2em;padding-left: 0.2em;position: relative;}#sk-container-id-1 div.sk-item {position: relative;z-index: 1;}#sk-container-id-1 div.sk-parallel {display: flex;align-items: stretch;justify-content: center;background-color: white;position: relative;}#sk-container-id-1 div.sk-item::before, #sk-container-id-1 div.sk-parallel-item::before {content: \"\";position: absolute;border-left: 1px solid gray;box-sizing: border-box;top: 0;bottom: 0;left: 50%;z-index: -1;}#sk-container-id-1 div.sk-parallel-item {display: flex;flex-direction: column;z-index: 1;position: relative;background-color: white;}#sk-container-id-1 div.sk-parallel-item:first-child::after {align-self: flex-end;width: 50%;}#sk-container-id-1 div.sk-parallel-item:last-child::after {align-self: flex-start;width: 50%;}#sk-container-id-1 div.sk-parallel-item:only-child::after {width: 0;}#sk-container-id-1 div.sk-dashed-wrapped {border: 1px dashed gray;margin: 0 0.4em 0.5em 0.4em;box-sizing: border-box;padding-bottom: 0.4em;background-color: white;}#sk-container-id-1 div.sk-label label {font-family: monospace;font-weight: bold;display: inline-block;line-height: 1.2em;}#sk-container-id-1 div.sk-label-container {text-align: center;}#sk-container-id-1 div.sk-container {/* jupyter's `normalize.less` sets `[hidden] { display: none; }` but bootstrap.min.css set `[hidden] { display: none !important; }` so we also need the `!important` here to be able to override the default hidden behavior on the sphinx rendered scikit-learn.org. See: https://github.com/scikit-learn/scikit-learn/issues/21755 */display: inline-block !important;position: relative;}#sk-container-id-1 div.sk-text-repr-fallback {display: none;}</style><div id=\"sk-container-id-1\" class=\"sk-top-container\"><div class=\"sk-text-repr-fallback\"><pre>LinearRegression()</pre><b>In a Jupyter environment, please rerun this cell to show the HTML representation or trust the notebook. <br />On GitHub, the HTML representation is unable to render, please try loading this page with nbviewer.org.</b></div><div class=\"sk-container\" hidden><div class=\"sk-item\"><div class=\"sk-estimator sk-toggleable\"><input class=\"sk-toggleable__control sk-hidden--visually\" id=\"sk-estimator-id-1\" type=\"checkbox\" checked><label for=\"sk-estimator-id-1\" class=\"sk-toggleable__label sk-toggleable__label-arrow\">LinearRegression</label><div class=\"sk-toggleable__content\"><pre>LinearRegression()</pre></div></div></div></div></div>"
      ],
      "text/plain": [
       "LinearRegression()"
      ]
     },
     "execution_count": 18,
     "metadata": {},
     "output_type": "execute_result"
    }
   ],
   "source": [
    "# Training the Simple Linear Regression model .\n",
    "\n",
    "from sklearn.linear_model import LinearRegression\n",
    "model = LinearRegression()\n",
    "model.fit(x_train,y_train)"
   ]
  },
  {
   "cell_type": "code",
   "execution_count": 19,
   "metadata": {
    "id": "hGfrNaaAhtzX"
   },
   "outputs": [
    {
     "data": {
      "text/plain": [
       "array([-111382.69279615,  -91011.76537654,   35276.19366002, ...,\n",
       "        -25773.08389359,  -73123.89554851,  -64968.94310026])"
      ]
     },
     "execution_count": 19,
     "metadata": {},
     "output_type": "execute_result"
    }
   ],
   "source": [
    "# Predicting the test Results \n",
    "\n",
    "lr_predict = model.predict(x_test)\n",
    "lr_predict"
   ]
  },
  {
   "cell_type": "code",
   "execution_count": 20,
   "metadata": {
    "id": "nYQUatD7hwCM"
   },
   "outputs": [
    {
     "data": {
      "text/plain": [
       "0.3776273901524858"
      ]
     },
     "execution_count": 20,
     "metadata": {},
     "output_type": "execute_result"
    }
   ],
   "source": [
    "model.score(x_test,y_test)"
   ]
  },
  {
   "cell_type": "code",
   "execution_count": 21,
   "metadata": {},
   "outputs": [
    {
     "name": "stdout",
     "output_type": "stream",
     "text": [
      "R2 score :  0.3776273901524858\n"
     ]
    }
   ],
   "source": [
    "from sklearn.metrics import r2_score\n",
    "r = r2_score(y_test,lr_predict)\n",
    "print(\"R2 score : \",r)"
   ]
  },
  {
   "cell_type": "code",
   "execution_count": 22,
   "metadata": {},
   "outputs": [
    {
     "data": {
      "text/plain": [
       "Text(0.5, 1.0, 'Linear Regression')"
      ]
     },
     "execution_count": 22,
     "metadata": {},
     "output_type": "execute_result"
    },
    {
     "data": {
      "image/png": "[encoded data removed]",
      "text/plain": [
       "<Figure size 640x480 with 1 Axes>"
      ]
     },
     "metadata": {},
     "output_type": "display_data"
    }
   ],
   "source": [
    "plt.scatter(y_test,lr_predict)\n",
    "plt.xlabel('Actual')\n",
    "plt.ylabel('Predicted')\n",
    "plt.title('Linear Regression')"
   ]
  },
  {
   "cell_type": "markdown",
   "metadata": {},
   "source": [
    "Clearly, the dataset is not good for linear regression.\n",
    "\n",
    "<b> Assumptions of Linear Regression </b>\n",
    "<ol>\n",
    "    <li> Linearity.</li>\n",
    "    <li> Homoscedasticity </li>\n",
    "    <li> Multivariate normality </li>\n",
    "    <li> Lack of multicollinearity </li>\n",
    "    \n"
   ]
  },
  {
   "cell_type": "markdown",
   "metadata": {},
   "source": [
    "# R2 score: This is pronounced as R-squared, and this score refers to the coefficient of determination. \n",
    "# This tells us how well the unknown samples will be predicted by our model."
   ]
  },
  {
   "cell_type": "markdown",
   "metadata": {
    "id": "VQd1SuR8YKie"
   },
   "source": [
    "<b><h3> Random Forest Algorithm </h3></b>"
   ]
  },
  {
   "cell_type": "code",
   "execution_count": 23,
   "metadata": {
    "id": "mw2Uwu7iKSrt"
   },
   "outputs": [
    {
     "data": {
      "text/plain": [
       "array([   91.81818182,   365.15151515,    42.66258035, ...,\n",
       "       26527.27272727,    31.54545455,   345.87878788])"
      ]
     },
     "execution_count": 23,
     "metadata": {},
     "output_type": "execute_result"
    }
   ],
   "source": [
    "from sklearn.ensemble import RandomForestRegressor\n",
    "model = RandomForestRegressor(n_estimators = 11)\n",
    "model.fit(x_train,y_train)\n",
    "rf_predict = model.predict(x_test)\n",
    "rf_predict"
   ]
  },
  {
   "cell_type": "code",
   "execution_count": 24,
   "metadata": {},
   "outputs": [
    {
     "data": {
      "text/plain": [
       "0.9406125135297624"
      ]
     },
     "execution_count": 24,
     "metadata": {},
     "output_type": "execute_result"
    }
   ],
   "source": [
    "model.score(x_test,y_test)"
   ]
  },
  {
   "cell_type": "code",
   "execution_count": 25,
   "metadata": {},
   "outputs": [
    {
     "name": "stdout",
     "output_type": "stream",
     "text": [
      "R2 score :  0.9406125135297624\n"
     ]
    }
   ],
   "source": [
    "# Calculating R2 score\n",
    "\n",
    "from sklearn.metrics import r2_score\n",
    "r1 = r2_score(y_test,rf_predict)\n",
    "print(\"R2 score : \",r1)"
   ]
  },
  {
   "cell_type": "code",
   "execution_count": 26,
   "metadata": {},
   "outputs": [
    {
     "name": "stdout",
     "output_type": "stream",
     "text": [
      "Adj. R-Squared : 0.36231310349285206\n"
     ]
    }
   ],
   "source": [
    "# Calculating Adj. R2 score: \n",
    "\n",
    "Adjr2_1 = 1 - (1-r)*(len(y_test)-1)/(len(y_test)-x_test.shape[1]-1)\n",
    "print(\"Adj. R-Squared : {}\".format(Adjr2_1))"
   ]
  },
  {
   "cell_type": "code",
   "execution_count": 27,
   "metadata": {},
   "outputs": [
    {
     "name": "stderr",
     "output_type": "stream",
     "text": [
      "C:\\Users\\ASUS\\AppData\\Local\\Temp\\ipykernel_8620\\551929062.py:1: UserWarning: \n",
      "\n",
      "`distplot` is a deprecated function and will be removed in seaborn v0.14.0.\n",
      "\n",
      "Please adapt your code to use either `displot` (a figure-level function with\n",
      "similar flexibility) or `kdeplot` (an axes-level function for kernel density plots).\n",
      "\n",
      "For a guide to updating your code to use the new functions, please see\n",
      "https://gist.github.com/mwaskom/de44147ed2974457ad6372750bbe5751\n",
      "\n",
      "  ax = sns.distplot(y_test, hist = False, color = \"r\", label = \"Actual value \")\n",
      "C:\\Users\\ASUS\\AppData\\Local\\Temp\\ipykernel_8620\\551929062.py:2: UserWarning: \n",
      "\n",
      "`distplot` is a deprecated function and will be removed in seaborn v0.14.0.\n",
      "\n",
      "Please adapt your code to use either `displot` (a figure-level function with\n",
      "similar flexibility) or `kdeplot` (an axes-level function for kernel density plots).\n",
      "\n",
      "For a guide to updating your code to use the new functions, please see\n",
      "https://gist.github.com/mwaskom/de44147ed2974457ad6372750bbe5751\n",
      "\n",
      "  sns.distplot(rf_predict, hist = False, color = \"b\", label = \"Predicted Values\", ax = ax)\n"
     ]
    },
    {
     "data": {
      "text/plain": [
       "Text(0.5, 1.0, 'Random Forest Regression')"
      ]
     },
     "execution_count": 27,
     "metadata": {},
     "output_type": "execute_result"
    },
    {
     "data": {
      "image/png": "[encoded data removed]",
      "text/plain": [
       "<Figure size 640x480 with 1 Axes>"
      ]
     },
     "metadata": {},
     "output_type": "display_data"
    }
   ],
   "source": [
    "ax = sns.distplot(y_test, hist = False, color = \"r\", label = \"Actual value \")\n",
    "sns.distplot(rf_predict, hist = False, color = \"b\", label = \"Predicted Values\", ax = ax)\n",
    "plt.title('Random Forest Regression')"
   ]
  },
  {
   "cell_type": "markdown",
   "metadata": {},
   "source": [
    "<b> Comparison between Linear Regression Algorithm and Random Forest Algorithm </b> "
   ]
  },
  {
   "cell_type": "markdown",
   "metadata": {},
   "source": [
    "\n",
    "\n",
    "1. Linear regression algorithm is not at all accurate for this kind of prediction.\n",
    "2. Random Forest Algorithm has higher accuracy ( between 85 % to 90% ), but it is slow."
   ]
  },
  {
   "cell_type": "markdown",
   "metadata": {},
   "source": [
    "<b> Decision Tree </b>"
   ]
  },
  {
   "cell_type": "code",
   "execution_count": 28,
   "metadata": {},
   "outputs": [
    {
     "data": {
      "text/plain": [
       "array([1.00000000e+02, 4.00000000e+02, 3.04285714e+01, ...,\n",
       "       2.47000000e+04, 1.00000000e+01, 3.00000000e+02])"
      ]
     },
     "execution_count": 28,
     "metadata": {},
     "output_type": "execute_result"
    }
   ],
   "source": [
    "# Training model \n",
    "from sklearn.tree import DecisionTreeRegressor\n",
    "regressor = DecisionTreeRegressor(random_state = 5)\n",
    "regressor.fit(x_train,y_train)\n",
    "\n",
    "# Predicting results\n",
    "decisiontree_predict = regressor.predict(x_test)\n",
    "decisiontree_predict"
   ]
  },
  {
   "cell_type": "code",
   "execution_count": 29,
   "metadata": {},
   "outputs": [
    {
     "data": {
      "text/plain": [
       "0.9224345213747314"
      ]
     },
     "execution_count": 29,
     "metadata": {},
     "output_type": "execute_result"
    }
   ],
   "source": [
    "regressor.score(x_test,y_test)"
   ]
  },
  {
   "cell_type": "code",
   "execution_count": 30,
   "metadata": {},
   "outputs": [
    {
     "name": "stdout",
     "output_type": "stream",
     "text": [
      "R2 score :  0.9224345213747314\n"
     ]
    }
   ],
   "source": [
    "# Calculating R2 score :\n",
    "\n",
    "from sklearn.metrics import r2_score\n",
    "r2 = r2_score(y_test,decisiontree_predict)\n",
    "print(\"R2 score : \",r2)"
   ]
  },
  {
   "cell_type": "code",
   "execution_count": 31,
   "metadata": {},
   "outputs": [
    {
     "name": "stdout",
     "output_type": "stream",
     "text": [
      "Adj. R-Squared : 0.36231310349285206\n"
     ]
    }
   ],
   "source": [
    "# Calculating Adj. R2 score: \n",
    "\n",
    "Adjr2_2 = 1 - (1-r)*(len(y_test)-1)/(len(y_test)-x_test.shape[1]-1)\n",
    "print(\"Adj. R-Squared : {}\".format(Adjr2_2))"
   ]
  },
  {
   "cell_type": "code",
   "execution_count": 32,
   "metadata": {},
   "outputs": [
    {
     "name": "stderr",
     "output_type": "stream",
     "text": [
      "C:\\Users\\ASUS\\AppData\\Local\\Temp\\ipykernel_8620\\697514152.py:1: UserWarning: \n",
      "\n",
      "`distplot` is a deprecated function and will be removed in seaborn v0.14.0.\n",
      "\n",
      "Please adapt your code to use either `displot` (a figure-level function with\n",
      "similar flexibility) or `kdeplot` (an axes-level function for kernel density plots).\n",
      "\n",
      "For a guide to updating your code to use the new functions, please see\n",
      "https://gist.github.com/mwaskom/de44147ed2974457ad6372750bbe5751\n",
      "\n",
      "  ax = sns.distplot(y_test, hist = False, color = \"r\", label = \"Actual value \")\n",
      "C:\\Users\\ASUS\\AppData\\Local\\Temp\\ipykernel_8620\\697514152.py:2: UserWarning: \n",
      "\n",
      "`distplot` is a deprecated function and will be removed in seaborn v0.14.0.\n",
      "\n",
      "Please adapt your code to use either `displot` (a figure-level function with\n",
      "similar flexibility) or `kdeplot` (an axes-level function for kernel density plots).\n",
      "\n",
      "For a guide to updating your code to use the new functions, please see\n",
      "https://gist.github.com/mwaskom/de44147ed2974457ad6372750bbe5751\n",
      "\n",
      "  sns.distplot(decisiontree_predict, hist = False, color = \"b\", label = \"Predicted Values\", ax = ax)\n"
     ]
    },
    {
     "data": {
      "text/plain": [
       "Text(0.5, 1.0, 'Decision Tree Regression')"
      ]
     },
     "execution_count": 32,
     "metadata": {},
     "output_type": "execute_result"
    },
    {
     "data": {
      "image/png": "[encoded data removed]",
      "text/plain": [
       "<Figure size 640x480 with 1 Axes>"
      ]
     },
     "metadata": {},
     "output_type": "display_data"
    }
   ],
   "source": [
    "ax = sns.distplot(y_test, hist = False, color = \"r\", label = \"Actual value \")\n",
    "sns.distplot(decisiontree_predict, hist = False, color = \"b\", label = \"Predicted Values\", ax = ax)\n",
    "plt.title('Decision Tree Regression')"
   ]
  },
  {
   "cell_type": "code",
   "execution_count": 33,
   "metadata": {},
   "outputs": [
    {
     "name": "stdout",
     "output_type": "stream",
     "text": [
      "<class 'pandas.core.frame.DataFrame'>\n",
      "Int64Index: 3124 entries, 136935 to 133983\n",
      "Data columns (total 75 columns):\n",
      " #   Column                        Non-Null Count  Dtype  \n",
      "---  ------                        --------------  -----  \n",
      " 0   Area                          3124 non-null   float64\n",
      " 1   District_Name_AHMEDNAGAR      3124 non-null   uint8  \n",
      " 2   District_Name_AKOLA           3124 non-null   uint8  \n",
      " 3   District_Name_AMRAVATI        3124 non-null   uint8  \n",
      " 4   District_Name_AURANGABAD      3124 non-null   uint8  \n",
      " 5   District_Name_BEED            3124 non-null   uint8  \n",
      " 6   District_Name_BHANDARA        3124 non-null   uint8  \n",
      " 7   District_Name_BULDHANA        3124 non-null   uint8  \n",
      " 8   District_Name_CHANDRAPUR      3124 non-null   uint8  \n",
      " 9   District_Name_DHULE           3124 non-null   uint8  \n",
      " 10  District_Name_GADCHIROLI      3124 non-null   uint8  \n",
      " 11  District_Name_GONDIA          3124 non-null   uint8  \n",
      " 12  District_Name_HINGOLI         3124 non-null   uint8  \n",
      " 13  District_Name_JALGAON         3124 non-null   uint8  \n",
      " 14  District_Name_JALNA           3124 non-null   uint8  \n",
      " 15  District_Name_KOLHAPUR        3124 non-null   uint8  \n",
      " 16  District_Name_LATUR           3124 non-null   uint8  \n",
      " 17  District_Name_MUMBAI          3124 non-null   uint8  \n",
      " 18  District_Name_NAGPUR          3124 non-null   uint8  \n",
      " 19  District_Name_NANDED          3124 non-null   uint8  \n",
      " 20  District_Name_NANDURBAR       3124 non-null   uint8  \n",
      " 21  District_Name_NASHIK          3124 non-null   uint8  \n",
      " 22  District_Name_OSMANABAD       3124 non-null   uint8  \n",
      " 23  District_Name_PALGHAR         3124 non-null   uint8  \n",
      " 24  District_Name_PARBHANI        3124 non-null   uint8  \n",
      " 25  District_Name_PUNE            3124 non-null   uint8  \n",
      " 26  District_Name_RAIGAD          3124 non-null   uint8  \n",
      " 27  District_Name_RATNAGIRI       3124 non-null   uint8  \n",
      " 28  District_Name_SANGLI          3124 non-null   uint8  \n",
      " 29  District_Name_SATARA          3124 non-null   uint8  \n",
      " 30  District_Name_SINDHUDURG      3124 non-null   uint8  \n",
      " 31  District_Name_SOLAPUR         3124 non-null   uint8  \n",
      " 32  District_Name_THANE           3124 non-null   uint8  \n",
      " 33  District_Name_WARDHA          3124 non-null   uint8  \n",
      " 34  District_Name_WASHIM          3124 non-null   uint8  \n",
      " 35  District_Name_YAVATMAL        3124 non-null   uint8  \n",
      " 36  Season_Autumn                 3124 non-null   uint8  \n",
      " 37  Season_Kharif                 3124 non-null   uint8  \n",
      " 38  Season_Rabi                   3124 non-null   uint8  \n",
      " 39  Season_Summer                 3124 non-null   uint8  \n",
      " 40  Season_Whole Year             3124 non-null   uint8  \n",
      " 41  Crop_Arhar/Tur                3124 non-null   uint8  \n",
      " 42  Crop_Bajra                    3124 non-null   uint8  \n",
      " 43  Crop_Banana                   3124 non-null   uint8  \n",
      " 44  Crop_Castor seed              3124 non-null   uint8  \n",
      " 45  Crop_Cotton(lint)             3124 non-null   uint8  \n",
      " 46  Crop_Gram                     3124 non-null   uint8  \n",
      " 47  Crop_Grapes                   3124 non-null   uint8  \n",
      " 48  Crop_Groundnut                3124 non-null   uint8  \n",
      " 49  Crop_Jowar                    3124 non-null   uint8  \n",
      " 50  Crop_Linseed                  3124 non-null   uint8  \n",
      " 51  Crop_Maize                    3124 non-null   uint8  \n",
      " 52  Crop_Mango                    3124 non-null   uint8  \n",
      " 53  Crop_Moong(Green Gram)        3124 non-null   uint8  \n",
      " 54  Crop_Niger seed               3124 non-null   uint8  \n",
      " 55  Crop_Onion                    3124 non-null   uint8  \n",
      " 56  Crop_Other  Rabi pulses       3124 non-null   uint8  \n",
      " 57  Crop_Other Cereals & Millets  3124 non-null   uint8  \n",
      " 58  Crop_Other Kharif pulses      3124 non-null   uint8  \n",
      " 59  Crop_Pulses total             3124 non-null   uint8  \n",
      " 60  Crop_Ragi                     3124 non-null   uint8  \n",
      " 61  Crop_Rapeseed &Mustard        3124 non-null   uint8  \n",
      " 62  Crop_Rice                     3124 non-null   uint8  \n",
      " 63  Crop_Safflower                3124 non-null   uint8  \n",
      " 64  Crop_Sesamum                  3124 non-null   uint8  \n",
      " 65  Crop_Small millets            3124 non-null   uint8  \n",
      " 66  Crop_Soyabean                 3124 non-null   uint8  \n",
      " 67  Crop_Sugarcane                3124 non-null   uint8  \n",
      " 68  Crop_Sunflower                3124 non-null   uint8  \n",
      " 69  Crop_Tobacco                  3124 non-null   uint8  \n",
      " 70  Crop_Tomato                   3124 non-null   uint8  \n",
      " 71  Crop_Total foodgrain          3124 non-null   uint8  \n",
      " 72  Crop_Urad                     3124 non-null   uint8  \n",
      " 73  Crop_Wheat                    3124 non-null   uint8  \n",
      " 74  Crop_other oilseeds           3124 non-null   uint8  \n",
      "dtypes: float64(1), uint8(74)\n",
      "memory usage: 274.6 KB\n"
     ]
    }
   ],
   "source": [
    "x_test.info()"
   ]
  },
  {
   "cell_type": "code",
   "execution_count": 34,
   "metadata": {},
   "outputs": [],
   "source": [
    "import pickle\n",
    "\n",
    "with open('random_forest_model.pkl', 'wb') as model_file:\n",
    "    pickle.dump(model, model_file)"
   ]
  },
  {
   "cell_type": "code",
   "execution_count": 38,
   "metadata": {},
   "outputs": [
    {
     "data": {
      "text/plain": [
       "136935       10.0\n",
       "125736      600.0\n",
       "134797       10.0\n",
       "136394    22200.0\n",
       "126877     2700.0\n",
       "           ...   \n",
       "137516      300.0\n",
       "126294        4.0\n",
       "128398    26300.0\n",
       "127875       19.0\n",
       "133983      300.0\n",
       "Name: Production, Length: 3124, dtype: float64"
      ]
     },
     "execution_count": 38,
     "metadata": {},
     "output_type": "execute_result"
    }
   ],
   "source": []
  }
 ],
 "metadata": {
  "colab": {
   "collapsed_sections": [],
   "name": "CropYieldPrediction.ipynb",
   "provenance": []
  },
  "kernelspec": {
   "display_name": "Python 3.10.4 64-bit",
   "language": "python",
   "name": "python3"
  },
  "language_info": {
   "codemirror_mode": {
    "name": "ipython",
    "version": 3
   },
   "file_extension": ".py",
   "mimetype": "text/x-python",
   "name": "python",
   "nbconvert_exporter": "python",
   "pygments_lexer": "ipython3",
   "version": "3.10.4"
  },
  "vscode": {
   "interpreter": {
    "hash": "27f6fea6f47ae512550f0b8facdbd035a93e1dd89633f7bf2dd00a2502c71d0d"
   }
  }
 },
 "nbformat": 4,
 "nbformat_minor": 1
}
